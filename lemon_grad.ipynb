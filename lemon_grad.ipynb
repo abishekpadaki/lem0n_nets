{
  "nbformat": 4,
  "nbformat_minor": 0,
  "metadata": {
    "colab": {
      "provenance": [],
      "authorship_tag": "ABX9TyP4kdtk6sJFkF2vJ2n7VCXA"
    },
    "kernelspec": {
      "name": "python3",
      "display_name": "Python 3"
    },
    "language_info": {
      "name": "python"
    }
  },
  "cells": [
    {
      "cell_type": "markdown",
      "source": [
        "# Lem0n Grad\n",
        "\n",
        "A 'from-scratch' notebook building gradient back-propagation in neural nets.\n",
        "\n",
        "Inspired by Andrej Karpathy's video on [building micrograd](https://youtu.be/VMj-3S1tku0?si=bH1deIqbuXTTenGk)"
      ],
      "metadata": {
        "id": "krwOilQviAIj"
      }
    },
    {
      "cell_type": "markdown",
      "source": [
        "## Understanding derivatives and gradient calculations of backprop"
      ],
      "metadata": {
        "id": "_VAT1B5Sj5st"
      }
    },
    {
      "cell_type": "code",
      "execution_count": null,
      "metadata": {
        "id": "9zTALgCLIu2V"
      },
      "outputs": [],
      "source": [
        "import math\n",
        "import numpy as np\n",
        "import matplotlib.pyplot as plt\n",
        "%matplotlib inline"
      ]
    },
    {
      "cell_type": "code",
      "source": [
        "class Value:\n",
        "  def __init__(self, data, _children=(), _op ='', label=''):\n",
        "    self.data = data\n",
        "    self. _prev = set(_children)\n",
        "    self.grad = 0.0\n",
        "    self._op = _op\n",
        "    self.label = label\n",
        "\n",
        "  def __repr__(self):\n",
        "    return f\"Value(data={self.data})\"\n",
        "\n",
        "  def __add__(self, other):\n",
        "    return Value(self.data + other.data, (self, other), '+')\n",
        "\n",
        "  def __mul__(self, other):\n",
        "    return Value(self.data * other.data, (self, other), '*')\n",
        "\n",
        "a = Value(2.0, label='a')\n",
        "b = Value(-3.0, label='b')\n",
        "c = Value(10.0, label = 'c')\n",
        "e = a*b; e.label = 'e'\n",
        "d = e + c; d.label = 'd'\n",
        "f = Value(-2.0, label='f')\n",
        "L = d * f; L.label = 'L'\n",
        "L"
      ],
      "metadata": {
        "colab": {
          "base_uri": "https://localhost:8080/"
        },
        "id": "BpWXHPagNZiT",
        "outputId": "ba8bb5f6-ef9e-4049-db27-4ced457c4454"
      },
      "execution_count": null,
      "outputs": [
        {
          "output_type": "execute_result",
          "data": {
            "text/plain": [
              "Value(data=-8.0)"
            ]
          },
          "metadata": {},
          "execution_count": 31
        }
      ]
    },
    {
      "cell_type": "code",
      "source": [
        "from graphviz import Digraph\n",
        "\n",
        "def trace(root):\n",
        "    nodes, edges = set(), set()\n",
        "    def build(v):\n",
        "        if v not in nodes:\n",
        "            nodes.add(v)\n",
        "            for child in v._prev:\n",
        "                edges.add((child, v))\n",
        "                build(child)\n",
        "    build(root)\n",
        "    return nodes, edges\n",
        "\n",
        "def draw_dot(root):\n",
        "    dot = Digraph(format='svg', graph_attr={'rankdir': 'LR'})\n",
        "\n",
        "    nodes, edges = trace(root)\n",
        "    for n in nodes:\n",
        "        uid = str(id(n))\n",
        "        dot.node(name = uid, label = \"{ %s | data %.4f | grad %.4f }\" % (n.label, n.data, n.grad),\n",
        "                 shape='record')\n",
        "        if n._op:\n",
        "            dot.node(name = uid + n._op, label = n._op)\n",
        "            dot.edge(uid + n._op, uid)\n",
        "\n",
        "    for n1, n2 in edges:\n",
        "        dot.edge(str(id(n1)), str(id(n2)) + n2._op)\n",
        "\n",
        "    return dot"
      ],
      "metadata": {
        "id": "CBIQG7BpUvF7"
      },
      "execution_count": null,
      "outputs": []
    },
    {
      "cell_type": "code",
      "source": [
        "L.grad = 1.0\n",
        "f.grad = d.data\n",
        "d.grad = f.data\n",
        "c.grad = d.grad * 1.0\n",
        "e.grad = d.grad * 1.0\n",
        "b.grad = e.grad * a.data\n",
        "a.grad = e.grad * b.data"
      ],
      "metadata": {
        "id": "8ooY6Ic6etMc"
      },
      "execution_count": null,
      "outputs": []
    },
    {
      "cell_type": "code",
      "source": [
        "draw_dot(L)"
      ],
      "metadata": {
        "colab": {
          "base_uri": "https://localhost:8080/",
          "height": 246
        },
        "id": "j95INzGvdCAd",
        "outputId": "f82d5c50-1089-489a-a407-b8ef4c7a5544"
      },
      "execution_count": null,
      "outputs": [
        {
          "output_type": "execute_result",
          "data": {
            "image/svg+xml": "<?xml version=\"1.0\" encoding=\"UTF-8\" standalone=\"no\"?>\n<!DOCTYPE svg PUBLIC \"-//W3C//DTD SVG 1.1//EN\"\n \"http://www.w3.org/Graphics/SVG/1.1/DTD/svg11.dtd\">\n<!-- Generated by graphviz version 2.43.0 (0)\n -->\n<!-- Title: %3 Pages: 1 -->\n<svg width=\"1157pt\" height=\"154pt\"\n viewBox=\"0.00 0.00 1157.00 154.00\" xmlns=\"http://www.w3.org/2000/svg\" xmlns:xlink=\"http://www.w3.org/1999/xlink\">\n<g id=\"graph0\" class=\"graph\" transform=\"scale(1 1) rotate(0) translate(4 150)\">\n<title>%3</title>\n<polygon fill=\"white\" stroke=\"transparent\" points=\"-4,4 -4,-150 1153,-150 1153,4 -4,4\"/>\n<!-- 139317240843808 -->\n<g id=\"node1\" class=\"node\">\n<title>139317240843808</title>\n<polygon fill=\"none\" stroke=\"black\" points=\"642,-54.5 642,-90.5 831,-90.5 831,-54.5 642,-54.5\"/>\n<text text-anchor=\"middle\" x=\"653.5\" y=\"-68.8\" font-family=\"Times,serif\" font-size=\"14.00\">d</text>\n<polyline fill=\"none\" stroke=\"black\" points=\"665,-54.5 665,-90.5 \"/>\n<text text-anchor=\"middle\" x=\"705\" y=\"-68.8\" font-family=\"Times,serif\" font-size=\"14.00\">data 4.0000</text>\n<polyline fill=\"none\" stroke=\"black\" points=\"745,-54.5 745,-90.5 \"/>\n<text text-anchor=\"middle\" x=\"788\" y=\"-68.8\" font-family=\"Times,serif\" font-size=\"14.00\">grad &#45;2.0000</text>\n</g>\n<!-- 139317240848176* -->\n<g id=\"node7\" class=\"node\">\n<title>139317240848176*</title>\n<ellipse fill=\"none\" stroke=\"black\" cx=\"894\" cy=\"-99.5\" rx=\"27\" ry=\"18\"/>\n<text text-anchor=\"middle\" x=\"894\" y=\"-95.8\" font-family=\"Times,serif\" font-size=\"14.00\">*</text>\n</g>\n<!-- 139317240843808&#45;&gt;139317240848176* -->\n<g id=\"edge9\" class=\"edge\">\n<title>139317240843808&#45;&gt;139317240848176*</title>\n<path fill=\"none\" stroke=\"black\" d=\"M831.1,-88.75C840.4,-90.37 849.38,-91.93 857.49,-93.33\"/>\n<polygon fill=\"black\" stroke=\"black\" points=\"857.14,-96.83 867.59,-95.09 858.34,-89.93 857.14,-96.83\"/>\n</g>\n<!-- 139317240843808+ -->\n<g id=\"node2\" class=\"node\">\n<title>139317240843808+</title>\n<ellipse fill=\"none\" stroke=\"black\" cx=\"579\" cy=\"-72.5\" rx=\"27\" ry=\"18\"/>\n<text text-anchor=\"middle\" x=\"579\" y=\"-68.8\" font-family=\"Times,serif\" font-size=\"14.00\">+</text>\n</g>\n<!-- 139317240843808+&#45;&gt;139317240843808 -->\n<g id=\"edge1\" class=\"edge\">\n<title>139317240843808+&#45;&gt;139317240843808</title>\n<path fill=\"none\" stroke=\"black\" d=\"M606.03,-72.5C613.66,-72.5 622.52,-72.5 631.94,-72.5\"/>\n<polygon fill=\"black\" stroke=\"black\" points=\"631.94,-76 641.94,-72.5 631.94,-69 631.94,-76\"/>\n</g>\n<!-- 139317236741840 -->\n<g id=\"node3\" class=\"node\">\n<title>139317236741840</title>\n<polygon fill=\"none\" stroke=\"black\" points=\"0,-55.5 0,-91.5 194,-91.5 194,-55.5 0,-55.5\"/>\n<text text-anchor=\"middle\" x=\"11.5\" y=\"-69.8\" font-family=\"Times,serif\" font-size=\"14.00\">b</text>\n<polyline fill=\"none\" stroke=\"black\" points=\"23,-55.5 23,-91.5 \"/>\n<text text-anchor=\"middle\" x=\"65.5\" y=\"-69.8\" font-family=\"Times,serif\" font-size=\"14.00\">data &#45;3.0000</text>\n<polyline fill=\"none\" stroke=\"black\" points=\"108,-55.5 108,-91.5 \"/>\n<text text-anchor=\"middle\" x=\"151\" y=\"-69.8\" font-family=\"Times,serif\" font-size=\"14.00\">grad &#45;4.0000</text>\n</g>\n<!-- 139317240850768* -->\n<g id=\"node9\" class=\"node\">\n<title>139317240850768*</title>\n<ellipse fill=\"none\" stroke=\"black\" cx=\"257\" cy=\"-45.5\" rx=\"27\" ry=\"18\"/>\n<text text-anchor=\"middle\" x=\"257\" y=\"-41.8\" font-family=\"Times,serif\" font-size=\"14.00\">*</text>\n</g>\n<!-- 139317236741840&#45;&gt;139317240850768* -->\n<g id=\"edge4\" class=\"edge\">\n<title>139317236741840&#45;&gt;139317240850768*</title>\n<path fill=\"none\" stroke=\"black\" d=\"M194.01,-56.49C203.35,-54.83 212.37,-53.23 220.49,-51.79\"/>\n<polygon fill=\"black\" stroke=\"black\" points=\"221.37,-55.19 230.6,-50 220.15,-48.3 221.37,-55.19\"/>\n</g>\n<!-- 139317236743424 -->\n<g id=\"node4\" class=\"node\">\n<title>139317236743424</title>\n<polygon fill=\"none\" stroke=\"black\" points=\"320,-82.5 320,-118.5 516,-118.5 516,-82.5 320,-82.5\"/>\n<text text-anchor=\"middle\" x=\"331.5\" y=\"-96.8\" font-family=\"Times,serif\" font-size=\"14.00\">c</text>\n<polyline fill=\"none\" stroke=\"black\" points=\"343,-82.5 343,-118.5 \"/>\n<text text-anchor=\"middle\" x=\"386.5\" y=\"-96.8\" font-family=\"Times,serif\" font-size=\"14.00\">data 10.0000</text>\n<polyline fill=\"none\" stroke=\"black\" points=\"430,-82.5 430,-118.5 \"/>\n<text text-anchor=\"middle\" x=\"473\" y=\"-96.8\" font-family=\"Times,serif\" font-size=\"14.00\">grad &#45;2.0000</text>\n</g>\n<!-- 139317236743424&#45;&gt;139317240843808+ -->\n<g id=\"edge8\" class=\"edge\">\n<title>139317236743424&#45;&gt;139317240843808+</title>\n<path fill=\"none\" stroke=\"black\" d=\"M516.07,-83.41C525.42,-81.76 534.43,-80.17 542.55,-78.74\"/>\n<polygon fill=\"black\" stroke=\"black\" points=\"543.41,-82.15 552.65,-76.96 542.2,-75.25 543.41,-82.15\"/>\n</g>\n<!-- 139317240848656 -->\n<g id=\"node5\" class=\"node\">\n<title>139317240848656</title>\n<polygon fill=\"none\" stroke=\"black\" points=\"642.5,-109.5 642.5,-145.5 830.5,-145.5 830.5,-109.5 642.5,-109.5\"/>\n<text text-anchor=\"middle\" x=\"653\" y=\"-123.8\" font-family=\"Times,serif\" font-size=\"14.00\">f</text>\n<polyline fill=\"none\" stroke=\"black\" points=\"663.5,-109.5 663.5,-145.5 \"/>\n<text text-anchor=\"middle\" x=\"706\" y=\"-123.8\" font-family=\"Times,serif\" font-size=\"14.00\">data &#45;2.0000</text>\n<polyline fill=\"none\" stroke=\"black\" points=\"748.5,-109.5 748.5,-145.5 \"/>\n<text text-anchor=\"middle\" x=\"789.5\" y=\"-123.8\" font-family=\"Times,serif\" font-size=\"14.00\">grad 4.0000</text>\n</g>\n<!-- 139317240848656&#45;&gt;139317240848176* -->\n<g id=\"edge6\" class=\"edge\">\n<title>139317240848656&#45;&gt;139317240848176*</title>\n<path fill=\"none\" stroke=\"black\" d=\"M830.65,-110.73C840.2,-109.01 849.43,-107.35 857.72,-105.85\"/>\n<polygon fill=\"black\" stroke=\"black\" points=\"858.47,-109.27 867.69,-104.06 857.23,-102.39 858.47,-109.27\"/>\n</g>\n<!-- 139317240848176 -->\n<g id=\"node6\" class=\"node\">\n<title>139317240848176</title>\n<polygon fill=\"none\" stroke=\"black\" points=\"957,-81.5 957,-117.5 1149,-117.5 1149,-81.5 957,-81.5\"/>\n<text text-anchor=\"middle\" x=\"969.5\" y=\"-95.8\" font-family=\"Times,serif\" font-size=\"14.00\">L</text>\n<polyline fill=\"none\" stroke=\"black\" points=\"982,-81.5 982,-117.5 \"/>\n<text text-anchor=\"middle\" x=\"1024.5\" y=\"-95.8\" font-family=\"Times,serif\" font-size=\"14.00\">data &#45;8.0000</text>\n<polyline fill=\"none\" stroke=\"black\" points=\"1067,-81.5 1067,-117.5 \"/>\n<text text-anchor=\"middle\" x=\"1108\" y=\"-95.8\" font-family=\"Times,serif\" font-size=\"14.00\">grad 1.0000</text>\n</g>\n<!-- 139317240848176*&#45;&gt;139317240848176 -->\n<g id=\"edge2\" class=\"edge\">\n<title>139317240848176*&#45;&gt;139317240848176</title>\n<path fill=\"none\" stroke=\"black\" d=\"M921.28,-99.5C928.78,-99.5 937.44,-99.5 946.67,-99.5\"/>\n<polygon fill=\"black\" stroke=\"black\" points=\"946.87,-103 956.87,-99.5 946.87,-96 946.87,-103\"/>\n</g>\n<!-- 139317240850768 -->\n<g id=\"node8\" class=\"node\">\n<title>139317240850768</title>\n<polygon fill=\"none\" stroke=\"black\" points=\"321,-27.5 321,-63.5 515,-63.5 515,-27.5 321,-27.5\"/>\n<text text-anchor=\"middle\" x=\"332.5\" y=\"-41.8\" font-family=\"Times,serif\" font-size=\"14.00\">e</text>\n<polyline fill=\"none\" stroke=\"black\" points=\"344,-27.5 344,-63.5 \"/>\n<text text-anchor=\"middle\" x=\"386.5\" y=\"-41.8\" font-family=\"Times,serif\" font-size=\"14.00\">data &#45;6.0000</text>\n<polyline fill=\"none\" stroke=\"black\" points=\"429,-27.5 429,-63.5 \"/>\n<text text-anchor=\"middle\" x=\"472\" y=\"-41.8\" font-family=\"Times,serif\" font-size=\"14.00\">grad &#45;2.0000</text>\n</g>\n<!-- 139317240850768&#45;&gt;139317240843808+ -->\n<g id=\"edge5\" class=\"edge\">\n<title>139317240850768&#45;&gt;139317240843808+</title>\n<path fill=\"none\" stroke=\"black\" d=\"M515.16,-61.83C524.82,-63.47 534.13,-65.05 542.49,-66.47\"/>\n<polygon fill=\"black\" stroke=\"black\" points=\"542.09,-69.95 552.54,-68.18 543.26,-63.05 542.09,-69.95\"/>\n</g>\n<!-- 139317240850768*&#45;&gt;139317240850768 -->\n<g id=\"edge3\" class=\"edge\">\n<title>139317240850768*&#45;&gt;139317240850768</title>\n<path fill=\"none\" stroke=\"black\" d=\"M284.26,-45.5C292.05,-45.5 301.1,-45.5 310.75,-45.5\"/>\n<polygon fill=\"black\" stroke=\"black\" points=\"310.99,-49 320.99,-45.5 310.99,-42 310.99,-49\"/>\n</g>\n<!-- 139317236742992 -->\n<g id=\"node10\" class=\"node\">\n<title>139317236742992</title>\n<polygon fill=\"none\" stroke=\"black\" points=\"4.5,-0.5 4.5,-36.5 189.5,-36.5 189.5,-0.5 4.5,-0.5\"/>\n<text text-anchor=\"middle\" x=\"16\" y=\"-14.8\" font-family=\"Times,serif\" font-size=\"14.00\">a</text>\n<polyline fill=\"none\" stroke=\"black\" points=\"27.5,-0.5 27.5,-36.5 \"/>\n<text text-anchor=\"middle\" x=\"67.5\" y=\"-14.8\" font-family=\"Times,serif\" font-size=\"14.00\">data 2.0000</text>\n<polyline fill=\"none\" stroke=\"black\" points=\"107.5,-0.5 107.5,-36.5 \"/>\n<text text-anchor=\"middle\" x=\"148.5\" y=\"-14.8\" font-family=\"Times,serif\" font-size=\"14.00\">grad 6.0000</text>\n</g>\n<!-- 139317236742992&#45;&gt;139317240850768* -->\n<g id=\"edge7\" class=\"edge\">\n<title>139317236742992&#45;&gt;139317240850768*</title>\n<path fill=\"none\" stroke=\"black\" d=\"M189.91,-34.21C200.76,-36.06 211.28,-37.86 220.61,-39.45\"/>\n<polygon fill=\"black\" stroke=\"black\" points=\"220.16,-42.93 230.6,-41.16 221.34,-36.03 220.16,-42.93\"/>\n</g>\n</g>\n</svg>\n",
            "text/plain": [
              "<graphviz.graphs.Digraph at 0x7eb552a6e680>"
            ]
          },
          "metadata": {},
          "execution_count": 51
        }
      ]
    },
    {
      "cell_type": "code",
      "source": [
        "def grad_test():\n",
        "  h = 0.001\n",
        "\n",
        "  a = Value(2.0, label='a')\n",
        "  b = Value(-3.0, label='b')\n",
        "  c = Value(10.0, label = 'c')\n",
        "  e = a*b; e.label = 'e'\n",
        "  d = e + c; d.label = 'd'\n",
        "  f = Value(-2.0, label='f')\n",
        "  L = d * f; L.label = 'L'\n",
        "  L1 = L.data\n",
        "\n",
        "  a = Value(2.0, label='a')\n",
        "\n",
        "  b = Value(-3.0, label='b')\n",
        "  b.data += h\n",
        "  c = Value(10.0, label = 'c')\n",
        "\n",
        "  e = a*b; e.label = 'e'\n",
        "\n",
        "  d = e + c; d.label = 'd'\n",
        "  f = Value(-2.0, label='f')\n",
        "  L = d * f; L.label = 'L'\n",
        "  L2 = L.data\n",
        "\n",
        "  print((L2 - L1)/h)\n",
        "grad_test()\n",
        "\n"
      ],
      "metadata": {
        "colab": {
          "base_uri": "https://localhost:8080/"
        },
        "id": "JeediqOJdDBp",
        "outputId": "e936d692-286b-4934-fbf0-1210a76eb9aa"
      },
      "execution_count": null,
      "outputs": [
        {
          "output_type": "stream",
          "name": "stdout",
          "text": [
            "-3.9999999999995595\n"
          ]
        }
      ]
    },
    {
      "cell_type": "markdown",
      "source": [
        "## Building the Neuron"
      ],
      "metadata": {
        "id": "X9e-wj9Ej1kQ"
      }
    },
    {
      "cell_type": "code",
      "source": [
        "#inputs\n",
        "x1 = Value(3.0, label='x1')\n",
        "x2 = Value(5.0, label='x2')\n",
        "\n",
        "#weights\n",
        "w1 = Value(-1.0, label='w1')\n",
        "w2 = Value(4.0, label='w2')\n",
        "\n",
        "#bias\n",
        "b = Value(4.3, label='b')\n",
        "\n",
        "#operations (x1 * w1 + x2 * w2 + b)\n",
        "\n",
        "x1w1 = x1 * w1; x1w1.label = 'x1w1'\n",
        "x2w2 = x2 * w2; x2w2.label = 'x2w2'\n",
        "x1w1x2w2 = x1w1 + x2w2; x1w1x2w2.label = 'x1w1 + x2w2'\n",
        "n = x1w1x2w2 + b; n.label = 'n'\n",
        "\n",
        "draw_dot(n)\n"
      ],
      "metadata": {
        "colab": {
          "base_uri": "https://localhost:8080/",
          "height": 321
        },
        "id": "LRAk-a-vdjWs",
        "outputId": "6f3e6e69-e743-46ee-c2ee-959fa6a42047"
      },
      "execution_count": null,
      "outputs": [
        {
          "output_type": "execute_result",
          "data": {
            "image/svg+xml": "<?xml version=\"1.0\" encoding=\"UTF-8\" standalone=\"no\"?>\n<!DOCTYPE svg PUBLIC \"-//W3C//DTD SVG 1.1//EN\"\n \"http://www.w3.org/Graphics/SVG/1.1/DTD/svg11.dtd\">\n<!-- Generated by graphviz version 2.43.0 (0)\n -->\n<!-- Title: %3 Pages: 1 -->\n<svg width=\"1255pt\" height=\"210pt\"\n viewBox=\"0.00 0.00 1255.00 210.00\" xmlns=\"http://www.w3.org/2000/svg\" xmlns:xlink=\"http://www.w3.org/1999/xlink\">\n<g id=\"graph0\" class=\"graph\" transform=\"scale(1 1) rotate(0) translate(4 206)\">\n<title>%3</title>\n<polygon fill=\"white\" stroke=\"transparent\" points=\"-4,4 -4,-206 1251,-206 1251,4 -4,4\"/>\n<!-- 139317236950032 -->\n<g id=\"node1\" class=\"node\">\n<title>139317236950032</title>\n<polygon fill=\"none\" stroke=\"black\" points=\"2.5,-165.5 2.5,-201.5 197.5,-201.5 197.5,-165.5 2.5,-165.5\"/>\n<text text-anchor=\"middle\" x=\"19\" y=\"-179.8\" font-family=\"Times,serif\" font-size=\"14.00\">w2</text>\n<polyline fill=\"none\" stroke=\"black\" points=\"35.5,-165.5 35.5,-201.5 \"/>\n<text text-anchor=\"middle\" x=\"75.5\" y=\"-179.8\" font-family=\"Times,serif\" font-size=\"14.00\">data 4.0000</text>\n<polyline fill=\"none\" stroke=\"black\" points=\"115.5,-165.5 115.5,-201.5 \"/>\n<text text-anchor=\"middle\" x=\"156.5\" y=\"-179.8\" font-family=\"Times,serif\" font-size=\"14.00\">grad 0.0000</text>\n</g>\n<!-- 139317236945472* -->\n<g id=\"node3\" class=\"node\">\n<title>139317236945472*</title>\n<ellipse fill=\"none\" stroke=\"black\" cx=\"263\" cy=\"-128.5\" rx=\"27\" ry=\"18\"/>\n<text text-anchor=\"middle\" x=\"263\" y=\"-124.8\" font-family=\"Times,serif\" font-size=\"14.00\">*</text>\n</g>\n<!-- 139317236950032&#45;&gt;139317236945472* -->\n<g id=\"edge10\" class=\"edge\">\n<title>139317236950032&#45;&gt;139317236945472*</title>\n<path fill=\"none\" stroke=\"black\" d=\"M172.53,-165.44C181.84,-162.67 191.2,-159.67 200,-156.5 210.53,-152.71 221.75,-147.9 231.72,-143.33\"/>\n<polygon fill=\"black\" stroke=\"black\" points=\"233.25,-146.48 240.82,-139.07 230.28,-140.14 233.25,-146.48\"/>\n</g>\n<!-- 139317236945472 -->\n<g id=\"node2\" class=\"node\">\n<title>139317236945472</title>\n<polygon fill=\"none\" stroke=\"black\" points=\"326,-110.5 326,-146.5 542,-146.5 542,-110.5 326,-110.5\"/>\n<text text-anchor=\"middle\" x=\"349.5\" y=\"-124.8\" font-family=\"Times,serif\" font-size=\"14.00\">x2w2</text>\n<polyline fill=\"none\" stroke=\"black\" points=\"373,-110.5 373,-146.5 \"/>\n<text text-anchor=\"middle\" x=\"416.5\" y=\"-124.8\" font-family=\"Times,serif\" font-size=\"14.00\">data 20.0000</text>\n<polyline fill=\"none\" stroke=\"black\" points=\"460,-110.5 460,-146.5 \"/>\n<text text-anchor=\"middle\" x=\"501\" y=\"-124.8\" font-family=\"Times,serif\" font-size=\"14.00\">grad 0.0000</text>\n</g>\n<!-- 139317236943216+ -->\n<g id=\"node12\" class=\"node\">\n<title>139317236943216+</title>\n<ellipse fill=\"none\" stroke=\"black\" cx=\"605\" cy=\"-100.5\" rx=\"27\" ry=\"18\"/>\n<text text-anchor=\"middle\" x=\"605\" y=\"-96.8\" font-family=\"Times,serif\" font-size=\"14.00\">+</text>\n</g>\n<!-- 139317236945472&#45;&gt;139317236943216+ -->\n<g id=\"edge9\" class=\"edge\">\n<title>139317236945472&#45;&gt;139317236943216+</title>\n<path fill=\"none\" stroke=\"black\" d=\"M542.03,-110.77C551.41,-109.21 560.4,-107.72 568.47,-106.39\"/>\n<polygon fill=\"black\" stroke=\"black\" points=\"569.22,-109.81 578.51,-104.72 568.08,-102.9 569.22,-109.81\"/>\n</g>\n<!-- 139317236945472*&#45;&gt;139317236945472 -->\n<g id=\"edge1\" class=\"edge\">\n<title>139317236945472*&#45;&gt;139317236945472</title>\n<path fill=\"none\" stroke=\"black\" d=\"M290.04,-128.5C297.59,-128.5 306.38,-128.5 315.8,-128.5\"/>\n<polygon fill=\"black\" stroke=\"black\" points=\"315.83,-132 325.83,-128.5 315.83,-125 315.83,-132\"/>\n</g>\n<!-- 139317236955360 -->\n<g id=\"node4\" class=\"node\">\n<title>139317236955360</title>\n<polygon fill=\"none\" stroke=\"black\" points=\"4,-110.5 4,-146.5 196,-146.5 196,-110.5 4,-110.5\"/>\n<text text-anchor=\"middle\" x=\"19\" y=\"-124.8\" font-family=\"Times,serif\" font-size=\"14.00\">x2</text>\n<polyline fill=\"none\" stroke=\"black\" points=\"34,-110.5 34,-146.5 \"/>\n<text text-anchor=\"middle\" x=\"74\" y=\"-124.8\" font-family=\"Times,serif\" font-size=\"14.00\">data 5.0000</text>\n<polyline fill=\"none\" stroke=\"black\" points=\"114,-110.5 114,-146.5 \"/>\n<text text-anchor=\"middle\" x=\"155\" y=\"-124.8\" font-family=\"Times,serif\" font-size=\"14.00\">grad 0.0000</text>\n</g>\n<!-- 139317236955360&#45;&gt;139317236945472* -->\n<g id=\"edge7\" class=\"edge\">\n<title>139317236955360&#45;&gt;139317236945472*</title>\n<path fill=\"none\" stroke=\"black\" d=\"M196.05,-128.5C206.52,-128.5 216.65,-128.5 225.71,-128.5\"/>\n<polygon fill=\"black\" stroke=\"black\" points=\"225.79,-132 235.79,-128.5 225.79,-125 225.79,-132\"/>\n</g>\n<!-- 139317236943600 -->\n<g id=\"node5\" class=\"node\">\n<title>139317236943600</title>\n<polygon fill=\"none\" stroke=\"black\" points=\"0,-55.5 0,-91.5 200,-91.5 200,-55.5 0,-55.5\"/>\n<text text-anchor=\"middle\" x=\"16.5\" y=\"-69.8\" font-family=\"Times,serif\" font-size=\"14.00\">w1</text>\n<polyline fill=\"none\" stroke=\"black\" points=\"33,-55.5 33,-91.5 \"/>\n<text text-anchor=\"middle\" x=\"75.5\" y=\"-69.8\" font-family=\"Times,serif\" font-size=\"14.00\">data &#45;1.0000</text>\n<polyline fill=\"none\" stroke=\"black\" points=\"118,-55.5 118,-91.5 \"/>\n<text text-anchor=\"middle\" x=\"159\" y=\"-69.8\" font-family=\"Times,serif\" font-size=\"14.00\">grad 0.0000</text>\n</g>\n<!-- 139317236957136* -->\n<g id=\"node7\" class=\"node\">\n<title>139317236957136*</title>\n<ellipse fill=\"none\" stroke=\"black\" cx=\"263\" cy=\"-73.5\" rx=\"27\" ry=\"18\"/>\n<text text-anchor=\"middle\" x=\"263\" y=\"-69.8\" font-family=\"Times,serif\" font-size=\"14.00\">*</text>\n</g>\n<!-- 139317236943600&#45;&gt;139317236957136* -->\n<g id=\"edge5\" class=\"edge\">\n<title>139317236943600&#45;&gt;139317236957136*</title>\n<path fill=\"none\" stroke=\"black\" d=\"M200.21,-73.5C209.2,-73.5 217.86,-73.5 225.7,-73.5\"/>\n<polygon fill=\"black\" stroke=\"black\" points=\"225.85,-77 235.85,-73.5 225.85,-70 225.85,-77\"/>\n</g>\n<!-- 139317236957136 -->\n<g id=\"node6\" class=\"node\">\n<title>139317236957136</title>\n<polygon fill=\"none\" stroke=\"black\" points=\"327,-55.5 327,-91.5 541,-91.5 541,-55.5 327,-55.5\"/>\n<text text-anchor=\"middle\" x=\"350.5\" y=\"-69.8\" font-family=\"Times,serif\" font-size=\"14.00\">x1w1</text>\n<polyline fill=\"none\" stroke=\"black\" points=\"374,-55.5 374,-91.5 \"/>\n<text text-anchor=\"middle\" x=\"416.5\" y=\"-69.8\" font-family=\"Times,serif\" font-size=\"14.00\">data &#45;3.0000</text>\n<polyline fill=\"none\" stroke=\"black\" points=\"459,-55.5 459,-91.5 \"/>\n<text text-anchor=\"middle\" x=\"500\" y=\"-69.8\" font-family=\"Times,serif\" font-size=\"14.00\">grad 0.0000</text>\n</g>\n<!-- 139317236957136&#45;&gt;139317236943216+ -->\n<g id=\"edge6\" class=\"edge\">\n<title>139317236957136&#45;&gt;139317236943216+</title>\n<path fill=\"none\" stroke=\"black\" d=\"M541.07,-90.45C550.86,-92.01 560.24,-93.51 568.63,-94.85\"/>\n<polygon fill=\"black\" stroke=\"black\" points=\"568.25,-98.33 578.68,-96.46 569.36,-91.42 568.25,-98.33\"/>\n</g>\n<!-- 139317236957136*&#45;&gt;139317236957136 -->\n<g id=\"edge2\" class=\"edge\">\n<title>139317236957136*&#45;&gt;139317236957136</title>\n<path fill=\"none\" stroke=\"black\" d=\"M290.04,-73.5C297.88,-73.5 307.05,-73.5 316.88,-73.5\"/>\n<polygon fill=\"black\" stroke=\"black\" points=\"316.92,-77 326.92,-73.5 316.92,-70 316.92,-77\"/>\n</g>\n<!-- 139317236953392 -->\n<g id=\"node8\" class=\"node\">\n<title>139317236953392</title>\n<polygon fill=\"none\" stroke=\"black\" points=\"1055,-54.5 1055,-90.5 1247,-90.5 1247,-54.5 1055,-54.5\"/>\n<text text-anchor=\"middle\" x=\"1066.5\" y=\"-68.8\" font-family=\"Times,serif\" font-size=\"14.00\">n</text>\n<polyline fill=\"none\" stroke=\"black\" points=\"1078,-54.5 1078,-90.5 \"/>\n<text text-anchor=\"middle\" x=\"1121.5\" y=\"-68.8\" font-family=\"Times,serif\" font-size=\"14.00\">data 21.3000</text>\n<polyline fill=\"none\" stroke=\"black\" points=\"1165,-54.5 1165,-90.5 \"/>\n<text text-anchor=\"middle\" x=\"1206\" y=\"-68.8\" font-family=\"Times,serif\" font-size=\"14.00\">grad 0.0000</text>\n</g>\n<!-- 139317236953392+ -->\n<g id=\"node9\" class=\"node\">\n<title>139317236953392+</title>\n<ellipse fill=\"none\" stroke=\"black\" cx=\"992\" cy=\"-72.5\" rx=\"27\" ry=\"18\"/>\n<text text-anchor=\"middle\" x=\"992\" y=\"-68.8\" font-family=\"Times,serif\" font-size=\"14.00\">+</text>\n</g>\n<!-- 139317236953392+&#45;&gt;139317236953392 -->\n<g id=\"edge3\" class=\"edge\">\n<title>139317236953392+&#45;&gt;139317236953392</title>\n<path fill=\"none\" stroke=\"black\" d=\"M1019.28,-72.5C1026.78,-72.5 1035.44,-72.5 1044.67,-72.5\"/>\n<polygon fill=\"black\" stroke=\"black\" points=\"1044.87,-76 1054.87,-72.5 1044.87,-69 1044.87,-76\"/>\n</g>\n<!-- 139317236951904 -->\n<g id=\"node10\" class=\"node\">\n<title>139317236951904</title>\n<polygon fill=\"none\" stroke=\"black\" points=\"4,-0.5 4,-36.5 196,-36.5 196,-0.5 4,-0.5\"/>\n<text text-anchor=\"middle\" x=\"19\" y=\"-14.8\" font-family=\"Times,serif\" font-size=\"14.00\">x1</text>\n<polyline fill=\"none\" stroke=\"black\" points=\"34,-0.5 34,-36.5 \"/>\n<text text-anchor=\"middle\" x=\"74\" y=\"-14.8\" font-family=\"Times,serif\" font-size=\"14.00\">data 3.0000</text>\n<polyline fill=\"none\" stroke=\"black\" points=\"114,-0.5 114,-36.5 \"/>\n<text text-anchor=\"middle\" x=\"155\" y=\"-14.8\" font-family=\"Times,serif\" font-size=\"14.00\">grad 0.0000</text>\n</g>\n<!-- 139317236951904&#45;&gt;139317236957136* -->\n<g id=\"edge8\" class=\"edge\">\n<title>139317236951904&#45;&gt;139317236957136*</title>\n<path fill=\"none\" stroke=\"black\" d=\"M169.28,-36.5C179.65,-39.61 190.16,-42.98 200,-46.5 210.28,-50.17 221.28,-54.74 231.11,-59.07\"/>\n<polygon fill=\"black\" stroke=\"black\" points=\"229.93,-62.37 240.48,-63.27 232.79,-55.99 229.93,-62.37\"/>\n</g>\n<!-- 139317236943216 -->\n<g id=\"node11\" class=\"node\">\n<title>139317236943216</title>\n<polygon fill=\"none\" stroke=\"black\" points=\"668,-82.5 668,-118.5 929,-118.5 929,-82.5 668,-82.5\"/>\n<text text-anchor=\"middle\" x=\"714\" y=\"-96.8\" font-family=\"Times,serif\" font-size=\"14.00\">x1w1 + x2w2</text>\n<polyline fill=\"none\" stroke=\"black\" points=\"760,-82.5 760,-118.5 \"/>\n<text text-anchor=\"middle\" x=\"803.5\" y=\"-96.8\" font-family=\"Times,serif\" font-size=\"14.00\">data 17.0000</text>\n<polyline fill=\"none\" stroke=\"black\" points=\"847,-82.5 847,-118.5 \"/>\n<text text-anchor=\"middle\" x=\"888\" y=\"-96.8\" font-family=\"Times,serif\" font-size=\"14.00\">grad 0.0000</text>\n</g>\n<!-- 139317236943216&#45;&gt;139317236953392+ -->\n<g id=\"edge11\" class=\"edge\">\n<title>139317236943216&#45;&gt;139317236953392+</title>\n<path fill=\"none\" stroke=\"black\" d=\"M922.68,-82.49C934.41,-80.77 945.54,-79.15 955.28,-77.72\"/>\n<polygon fill=\"black\" stroke=\"black\" points=\"955.88,-81.17 965.27,-76.26 954.86,-74.25 955.88,-81.17\"/>\n</g>\n<!-- 139317236943216+&#45;&gt;139317236943216 -->\n<g id=\"edge4\" class=\"edge\">\n<title>139317236943216+&#45;&gt;139317236943216</title>\n<path fill=\"none\" stroke=\"black\" d=\"M632.23,-100.5C639.68,-100.5 648.35,-100.5 657.74,-100.5\"/>\n<polygon fill=\"black\" stroke=\"black\" points=\"657.76,-104 667.76,-100.5 657.76,-97 657.76,-104\"/>\n</g>\n<!-- 139317236952528 -->\n<g id=\"node13\" class=\"node\">\n<title>139317236952528</title>\n<polygon fill=\"none\" stroke=\"black\" points=\"706,-27.5 706,-63.5 891,-63.5 891,-27.5 706,-27.5\"/>\n<text text-anchor=\"middle\" x=\"717.5\" y=\"-41.8\" font-family=\"Times,serif\" font-size=\"14.00\">b</text>\n<polyline fill=\"none\" stroke=\"black\" points=\"729,-27.5 729,-63.5 \"/>\n<text text-anchor=\"middle\" x=\"769\" y=\"-41.8\" font-family=\"Times,serif\" font-size=\"14.00\">data 4.3000</text>\n<polyline fill=\"none\" stroke=\"black\" points=\"809,-27.5 809,-63.5 \"/>\n<text text-anchor=\"middle\" x=\"850\" y=\"-41.8\" font-family=\"Times,serif\" font-size=\"14.00\">grad 0.0000</text>\n</g>\n<!-- 139317236952528&#45;&gt;139317236953392+ -->\n<g id=\"edge12\" class=\"edge\">\n<title>139317236952528&#45;&gt;139317236953392+</title>\n<path fill=\"none\" stroke=\"black\" d=\"M891.04,-58.41C913.87,-61.63 937.02,-64.89 955.29,-67.46\"/>\n<polygon fill=\"black\" stroke=\"black\" points=\"955.04,-70.97 965.44,-68.9 956.02,-64.03 955.04,-70.97\"/>\n</g>\n</g>\n</svg>\n",
            "text/plain": [
              "<graphviz.graphs.Digraph at 0x7eb5526b6770>"
            ]
          },
          "metadata": {},
          "execution_count": 55
        }
      ]
    },
    {
      "cell_type": "code",
      "source": [],
      "metadata": {
        "id": "zNJGEvlel1ec"
      },
      "execution_count": null,
      "outputs": []
    }
  ]
}